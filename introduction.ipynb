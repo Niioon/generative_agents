{
 "cells": [
  {
   "cell_type": "markdown",
   "id": "a4ca6ea66c409e98",
   "metadata": {},
   "source": [
    "# Generative Agents\n",
    "\n",
    "This notebook serves as an introduction to the reposetory, explaining the basic structure of the generative agents and showcasing their performance in \n",
    "simple examples"
   ]
  },
  {
   "cell_type": "markdown",
   "id": "9924bfd7f47c6f16",
   "metadata": {},
   "source": [
    "Generative Agents are AI agents that use an underlying LLM to react to a current observation that is provided to the in text form.\n",
    "Due to a memory module observations and actions by the agent are stored and can be used for later decision making, allowing the agent to generate complex emerging behaviors"
   ]
  },
  {
   "cell_type": "markdown",
   "id": "1e7a8accd6d74d",
   "metadata": {},
   "source": [
    "## Getting started\n",
    "- Install the required libraries using the gen_agents.yml file\n",
    "- Create a text file **api_token.txt** that contains the openAI api key"
   ]
  },
  {
   "cell_type": "code",
   "id": "60381896e444ce4",
   "metadata": {
    "ExecuteTime": {
     "end_time": "2024-05-31T14:33:30.258446Z",
     "start_time": "2024-05-31T14:33:30.252505Z"
    }
   },
   "source": [
    "import os\n",
    "# skip the reading of the file if you already have an environment variable under OPENAI_API_KEY\n",
    "with open('api_token.txt', 'r') as file:\n",
    "    api_key = file.read()\n",
    "os.environ['OPENAI_API_KEY'] = api_key"
   ],
   "outputs": [],
   "execution_count": 1
  },
  {
   "cell_type": "markdown",
   "id": "e15f9e6d30b0acec",
   "metadata": {},
   "source": [
    "## Creating an Agent\n",
    "\n",
    "A generative agents consist of 3 modules: the agent, the longterm memory and a shortterm memory.\n",
    "\n",
    "Lets create an agent step by step. Afterwards we will use a more convenient method that requires less code."
   ]
  },
  {
   "cell_type": "code",
   "id": "51e0c1499c0883e3",
   "metadata": {
    "ExecuteTime": {
     "end_time": "2024-05-31T14:33:32.208316Z",
     "start_time": "2024-05-31T14:33:30.375450Z"
    }
   },
   "source": [
    "from langchain_community.vectorstores import FAISS\n",
    "from langchain_community.docstore import InMemoryDocstore\n",
    "from langchain.retrievers import TimeWeightedVectorStoreRetriever\n",
    "from langchain_openai import OpenAIEmbeddings\n",
    "from memory import GenerativeAgentMemory\n",
    "from gen_agent import GenerativeAgent\n",
    "from short_term_memory import ShortTermMemory\n",
    "import faiss\n",
    "import math"
   ],
   "outputs": [],
   "execution_count": 2
  },
  {
   "cell_type": "markdown",
   "id": "60d366424f5af307",
   "metadata": {},
   "source": [
    "### LTM Module\n",
    "First we create the LTM module. \n",
    "At the core of the module is an LLM embedding vectorstore from the faiss library\n",
    "This allows the recall of related memories to a given observation.\n",
    "Around the vectorstore wraps a langchain **TimeWeightedVectorStoreRetriever**\n",
    "Relevant memories are retrieved according to 3 factors:\n",
    "- Embedding distance\n",
    "- Recency (More recent -> higher chance of recall)\n",
    "- Overall importance of memory (assigned at memory creation)\n"
   ]
  },
  {
   "cell_type": "markdown",
   "id": "5353742566f9526",
   "metadata": {},
   "source": []
  },
  {
   "cell_type": "code",
   "id": "cbd681acd28be43e",
   "metadata": {
    "ExecuteTime": {
     "end_time": "2024-05-31T14:33:32.316850Z",
     "start_time": "2024-05-31T14:33:32.209749Z"
    }
   },
   "source": [
    "def create_new_memory_retriever():\n",
    "    \"\"\"Create a new vector store retriever unique to the agent.\"\"\"\n",
    "\n",
    "    embeddings_model = OpenAIEmbeddings()\n",
    "    # Initialize the vectorstore as empty\n",
    "    # Never questioned this embedding size but it is pretty random\n",
    "    embedding_size = 1536\n",
    "    # faiss index from the faiss library\n",
    "    index = faiss.IndexFlatL2(embedding_size)\n",
    "\n",
    "\n",
    "    # This function converts the euclidean norm of normalized embeddings\n",
    "    # (0 is most similar, sqrt(2) most dissimilar)\n",
    "    #  to a similarity function (0 to 1)\n",
    "    # ie. with embeddings normalized to [-1,1] max euclidean distance is sqrt(2)\n",
    "    def relevance_score_fn(score: float) -> float:\n",
    "        \"\"\"Return a similarity score on a scale [0, 1].\"\"\"\n",
    "        return 1.0 - score / math.sqrt(2)\n",
    "\n",
    "    # FAISS is langchain wrapper for a faiss index\n",
    "    vectorstore = FAISS(\n",
    "        embeddings_model,\n",
    "        index,\n",
    "        InMemoryDocstore({}),\n",
    "        {},\n",
    "        relevance_score_fn=relevance_score_fn,\n",
    "    )\n",
    "    # k controls the maximum number of documents retrieved per call\n",
    "    return TimeWeightedVectorStoreRetriever(\n",
    "        vectorstore=vectorstore, other_score_keys=[\"importance\"], k=15\n",
    "    )\n",
    "\n",
    "\n",
    "# specify the LLM from the openai API used to rank memory importance\n",
    "# set verbose=True to see what is going on under the hood\n",
    "ltm_config = {\n",
    "    'llm_string': 'gpt-4-0125-preview',\n",
    "    'verbose': True,\n",
    "}\n",
    "\n",
    "\n",
    "memory_retriever = create_new_memory_retriever()\n",
    "long_term_memory = GenerativeAgentMemory(memory_retriever=memory_retriever, **ltm_config)\n",
    " "
   ],
   "outputs": [],
   "execution_count": 3
  },
  {
   "cell_type": "markdown",
   "id": "49e90df1224313fd",
   "metadata": {},
   "source": [
    "Passing the memory_retriever is not obligatory. The ltm module will create one with the default settings shown here. <br>\n",
    "For customization create a retriever and pass it. <br>\n",
    "Passing the retriever parameters to the memory module is not supported but on the TODO list"
   ]
  },
  {
   "cell_type": "markdown",
   "id": "29ab80d7d1114f40",
   "metadata": {},
   "source": [
    "### STM Module\n",
    "The short-term memory or conversation memory is much simple.\n",
    "It keeps track of all the observations and actions by the agent in the current situation (usually a conversation)\n",
    "and provides a summary of what has happened recently.\n",
    "It also uses an underlying LMM, which constantly updates the summary of the conversation."
   ]
  },
  {
   "cell_type": "code",
   "id": "1c3f5dd2175bcf57",
   "metadata": {
    "ExecuteTime": {
     "end_time": "2024-05-31T14:33:32.374736Z",
     "start_time": "2024-05-31T14:33:32.317677Z"
    }
   },
   "source": [
    "stm_config = {\n",
    "    'llm_string': 'gpt-4-0125-preview',\n",
    "    'verbose':True\n",
    "}\n",
    "     \n",
    "short_term_memory = ShortTermMemory(**stm_config)"
   ],
   "outputs": [],
   "execution_count": 4
  },
  {
   "cell_type": "markdown",
   "id": "5093ba8281ba2a9f",
   "metadata": {},
   "source": [
    "### Agent Module\n",
    "The agent integrates information from STM and LTM to react to a given observation. <br>\n",
    "In addition it has fixed character traits which also influence their behavior\n",
    "First we need to define a few traits of our agent\n",
    "\n",
    "**Some notes**:\n",
    "\n",
    "Current Goal:\n",
    "This is set and not updated by the agent in the current implementation, as it is not really required for my use case. <br>\n",
    "For further projects it can be updated by a reflection prompt, where the most recent memories are reviewed\n",
    "\n",
    "Status: This is a relic from the sims like environment, not sure if its still relevant in this use case. Might be removed"
   ]
  },
  {
   "cell_type": "code",
   "id": "a087f13923dc8477",
   "metadata": {
    "ExecuteTime": {
     "end_time": "2024-05-31T14:33:32.380014Z",
     "start_time": "2024-05-31T14:33:32.376427Z"
    }
   },
   "source": [
    "agent_dict = {\n",
    "    \"name\": \"Brian\",\n",
    "    \"age\": 28,\n",
    "    \"character_traits\": \"talkative, extraverted\", \n",
    "    \"communication_style\": \"midwestern accent, prefers smalltalk\",\n",
    "    \"current_goal\": \"enjoying his weekend\",\n",
    "    \"status\": \"Works at his parents gardening company\",\n",
    "    \"initial_observations\": [\n",
    "            \"Brian lives in the small town he grew up in\",\n",
    "            \"Brian lives in an apartment next door to his parents\",\n",
    "            \"Brian works in the family business which provides gardening services\",\n",
    "            \"Brian has a close relationship with his parents\",\n",
    "            \"Brian gets purpose from and honest day of work\",\n",
    "            \"Brian is interested in football and casually plays in the local club\",\n",
    "            \"Brian is not up to date with the world news as he feels they don't have influence on his life\",\n",
    "            \"Brian plans to take over the family business at some point in his life. He has no ambitions to move away\",\n",
    "             ],\n",
    "}\n",
    " \n",
    "agent_config = {\n",
    "    'llm_string': \"gpt-4-0125-preview\",\n",
    "    'verbose': True,\n",
    "}\n",
    "agent_config.update(agent_dict)\n",
    "\n"
   ],
   "outputs": [],
   "execution_count": 5
  },
  {
   "cell_type": "markdown",
   "id": "7793fb4b8723cf91",
   "metadata": {},
   "source": [
    "Lets create the agent"
   ]
  },
  {
   "cell_type": "code",
   "id": "524aea1afacbe2b4",
   "metadata": {
    "scrolled": true,
    "ExecuteTime": {
     "end_time": "2024-05-31T14:33:41.609068Z",
     "start_time": "2024-05-31T14:33:32.381270Z"
    }
   },
   "source": [
    "brian = GenerativeAgent(short_term_memory=short_term_memory, long_term_memory=long_term_memory, **agent_config)\n"
   ],
   "outputs": [
    {
     "name": "stdout",
     "output_type": "stream",
     "text": [
      "\n",
      "\n",
      "\u001B[1m> Entering new LLMChain chain...\u001B[0m\n",
      "Prompt after formatting:\n",
      "\u001B[32;1m\u001B[1;3mOn the scale of 1 to 10, where 1 is purely mundane (e.g., brushing teeth, making bed) and 10 is extremely poignant (e.g., a break up, college acceptance), rate the likely poignancy of the following piece of memory. Respond with a single integer.\n",
      "Memory: Brian lives in the small town he grew up in\n",
      "Rating: \u001B[0m\n",
      "\n",
      "\u001B[1m> Finished chain.\u001B[0m\n",
      "\n",
      "\n",
      "\u001B[1m> Entering new LLMChain chain...\u001B[0m\n",
      "Prompt after formatting:\n",
      "\u001B[32;1m\u001B[1;3mOn the scale of 1 to 10, where 1 is purely mundane (e.g., brushing teeth, making bed) and 10 is extremely poignant (e.g., a break up, college acceptance), rate the likely poignancy of the following piece of memory. Respond with a single integer.\n",
      "Memory: Brian lives in an apartment next door to his parents\n",
      "Rating: \u001B[0m\n",
      "\n",
      "\u001B[1m> Finished chain.\u001B[0m\n",
      "\n",
      "\n",
      "\u001B[1m> Entering new LLMChain chain...\u001B[0m\n",
      "Prompt after formatting:\n",
      "\u001B[32;1m\u001B[1;3mOn the scale of 1 to 10, where 1 is purely mundane (e.g., brushing teeth, making bed) and 10 is extremely poignant (e.g., a break up, college acceptance), rate the likely poignancy of the following piece of memory. Respond with a single integer.\n",
      "Memory: Brian works in the family business which provides gardening services\n",
      "Rating: \u001B[0m\n",
      "\n",
      "\u001B[1m> Finished chain.\u001B[0m\n",
      "\n",
      "\n",
      "\u001B[1m> Entering new LLMChain chain...\u001B[0m\n",
      "Prompt after formatting:\n",
      "\u001B[32;1m\u001B[1;3mOn the scale of 1 to 10, where 1 is purely mundane (e.g., brushing teeth, making bed) and 10 is extremely poignant (e.g., a break up, college acceptance), rate the likely poignancy of the following piece of memory. Respond with a single integer.\n",
      "Memory: Brian has a close relationship with his parents\n",
      "Rating: \u001B[0m\n",
      "\n",
      "\u001B[1m> Finished chain.\u001B[0m\n",
      "\n",
      "\n",
      "\u001B[1m> Entering new LLMChain chain...\u001B[0m\n",
      "Prompt after formatting:\n",
      "\u001B[32;1m\u001B[1;3mOn the scale of 1 to 10, where 1 is purely mundane (e.g., brushing teeth, making bed) and 10 is extremely poignant (e.g., a break up, college acceptance), rate the likely poignancy of the following piece of memory. Respond with a single integer.\n",
      "Memory: Brian gets purpose from and honest day of work\n",
      "Rating: \u001B[0m\n",
      "\n",
      "\u001B[1m> Finished chain.\u001B[0m\n",
      "\n",
      "\n",
      "\u001B[1m> Entering new LLMChain chain...\u001B[0m\n",
      "Prompt after formatting:\n",
      "\u001B[32;1m\u001B[1;3mOn the scale of 1 to 10, where 1 is purely mundane (e.g., brushing teeth, making bed) and 10 is extremely poignant (e.g., a break up, college acceptance), rate the likely poignancy of the following piece of memory. Respond with a single integer.\n",
      "Memory: Brian is interested in football and casually plays in the local club\n",
      "Rating: \u001B[0m\n",
      "\n",
      "\u001B[1m> Finished chain.\u001B[0m\n",
      "\n",
      "\n",
      "\u001B[1m> Entering new LLMChain chain...\u001B[0m\n",
      "Prompt after formatting:\n",
      "\u001B[32;1m\u001B[1;3mOn the scale of 1 to 10, where 1 is purely mundane (e.g., brushing teeth, making bed) and 10 is extremely poignant (e.g., a break up, college acceptance), rate the likely poignancy of the following piece of memory. Respond with a single integer.\n",
      "Memory: Brian is not up to date with the world news as he feels they don't have influence on his life\n",
      "Rating: \u001B[0m\n",
      "\n",
      "\u001B[1m> Finished chain.\u001B[0m\n",
      "\n",
      "\n",
      "\u001B[1m> Entering new LLMChain chain...\u001B[0m\n",
      "Prompt after formatting:\n",
      "\u001B[32;1m\u001B[1;3mOn the scale of 1 to 10, where 1 is purely mundane (e.g., brushing teeth, making bed) and 10 is extremely poignant (e.g., a break up, college acceptance), rate the likely poignancy of the following piece of memory. Respond with a single integer.\n",
      "Memory: Brian plans to take over the family business at some point in his life. He has no ambitions to move away\n",
      "Rating: \u001B[0m\n",
      "\n",
      "\u001B[1m> Finished chain.\u001B[0m\n"
     ]
    }
   ],
   "execution_count": 6
  },
  {
   "cell_type": "markdown",
   "id": "87da50530fb13f",
   "metadata": {},
   "source": [
    "Because verbose is set to True we can see the LLM calls the LTM makes upon receiving the initial observations. <br>\n",
    "Each observation or memory gets an importance ranking from 1 to 10"
   ]
  },
  {
   "cell_type": "markdown",
   "id": "8f983bea",
   "metadata": {},
   "source": [
    "### Convenient Agent Creation\n",
    "\n",
    "We can also create an agent from a config file in function call.  \n",
    "You can find some premade agent configs in the folder characters."
   ]
  },
  {
   "cell_type": "code",
   "id": "0809bb1d",
   "metadata": {
    "ExecuteTime": {
     "end_time": "2024-05-31T14:33:41.614795Z",
     "start_time": "2024-05-31T14:33:41.610518Z"
    }
   },
   "source": [
    "import json\n",
    "path = \"characters/brian.txt\"\n",
    "with open(path, 'r') as f:\n",
    "    agent_dict = json.load(f)\n",
    "\n",
    "for key, value in agent_dict.items():\n",
    "    print(f\"{key}: {value}\")"
   ],
   "outputs": [
    {
     "name": "stdout",
     "output_type": "stream",
     "text": [
      "name: Brian\n",
      "age: 28\n",
      "character_traits: talkative, extraverted\n",
      "communication_style: midwestern accent, prefers smalltalk\n",
      "current_goal: enjoying his weekend\n",
      "status: Works at his parents gardening company\n",
      "initial_observations: ['Brian lives in the small town he grew up in', 'Brian lives in an apartment next door to his parents', 'Brian works in the family business which provides gardening services', 'Brian has a close relationship with his parents', 'Brian gets purpose from and honest day of work', 'Brian is interested in football and casually plays in the local club', \"Brian is not up to date with the world news as he feels they don't have influence on his life\", 'Brian plans to take over the family business at some point in his life. He has no ambitions to move away']\n"
     ]
    }
   ],
   "execution_count": 7
  },
  {
   "metadata": {},
   "cell_type": "markdown",
   "source": [
    "These character files contain personal information about the agent.  \n",
    "There is a convenience function that creates characters from such a file"
   ],
   "id": "43eaf1fdf4ff81c7"
  },
  {
   "cell_type": "code",
   "id": "a3b37a48",
   "metadata": {
    "ExecuteTime": {
     "end_time": "2024-05-31T14:33:52.649970Z",
     "start_time": "2024-05-31T14:33:41.616166Z"
    }
   },
   "source": [
    "from utils import create_agent_from_config\n",
    "agent = create_agent_from_config(path)"
   ],
   "outputs": [],
   "execution_count": 8
  },
  {
   "metadata": {},
   "cell_type": "markdown",
   "source": [
    "You can also pass any additional properties of the agent, stm and ltm to the function.  \n",
    "It makes it easier to keep the personal information in the character files, while passing agent hyperparameters via the function.  \n",
    "However properties passed to the function will take precedence if the same property is specified in the character file.\n",
    "\n"
   ],
   "id": "25869b9612fa880f"
  },
  {
   "metadata": {
    "ExecuteTime": {
     "end_time": "2024-05-31T14:34:07.615585Z",
     "start_time": "2024-05-31T14:33:52.656254Z"
    }
   },
   "cell_type": "code",
   "source": [
    "ltm_config = {\n",
    "    'llm_string': 'gpt-4-0125-preview',\n",
    "    'verbose': True,\n",
    "}\n",
    "\n",
    "stm_config = {\n",
    "    'llm_string': 'gpt-4-0125-preview',\n",
    "    'verbose' : True\n",
    "}\n",
    "\n",
    "agent_config = {\n",
    "    'llm_string': \"gpt-4-0125-preview\",\n",
    "    'verbose': True,\n",
    "}\n",
    "agent_2 = create_agent_from_config(path, agent_config, ltm_config, stm_config)\n"
   ],
   "id": "b6fc75bb3fceb8d8",
   "outputs": [
    {
     "name": "stdout",
     "output_type": "stream",
     "text": [
      "\n",
      "\n",
      "\u001B[1m> Entering new LLMChain chain...\u001B[0m\n",
      "Prompt after formatting:\n",
      "\u001B[32;1m\u001B[1;3mOn the scale of 1 to 10, where 1 is purely mundane (e.g., brushing teeth, making bed) and 10 is extremely poignant (e.g., a break up, college acceptance), rate the likely poignancy of the following piece of memory. Respond with a single integer.\n",
      "Memory: Brian lives in the small town he grew up in\n",
      "Rating: \u001B[0m\n",
      "\n",
      "\u001B[1m> Finished chain.\u001B[0m\n",
      "\n",
      "\n",
      "\u001B[1m> Entering new LLMChain chain...\u001B[0m\n",
      "Prompt after formatting:\n",
      "\u001B[32;1m\u001B[1;3mOn the scale of 1 to 10, where 1 is purely mundane (e.g., brushing teeth, making bed) and 10 is extremely poignant (e.g., a break up, college acceptance), rate the likely poignancy of the following piece of memory. Respond with a single integer.\n",
      "Memory: Brian lives in an apartment next door to his parents\n",
      "Rating: \u001B[0m\n",
      "\n",
      "\u001B[1m> Finished chain.\u001B[0m\n",
      "\n",
      "\n",
      "\u001B[1m> Entering new LLMChain chain...\u001B[0m\n",
      "Prompt after formatting:\n",
      "\u001B[32;1m\u001B[1;3mOn the scale of 1 to 10, where 1 is purely mundane (e.g., brushing teeth, making bed) and 10 is extremely poignant (e.g., a break up, college acceptance), rate the likely poignancy of the following piece of memory. Respond with a single integer.\n",
      "Memory: Brian works in the family business which provides gardening services\n",
      "Rating: \u001B[0m\n",
      "\n",
      "\u001B[1m> Finished chain.\u001B[0m\n",
      "\n",
      "\n",
      "\u001B[1m> Entering new LLMChain chain...\u001B[0m\n",
      "Prompt after formatting:\n",
      "\u001B[32;1m\u001B[1;3mOn the scale of 1 to 10, where 1 is purely mundane (e.g., brushing teeth, making bed) and 10 is extremely poignant (e.g., a break up, college acceptance), rate the likely poignancy of the following piece of memory. Respond with a single integer.\n",
      "Memory: Brian has a close relationship with his parents\n",
      "Rating: \u001B[0m\n",
      "\n",
      "\u001B[1m> Finished chain.\u001B[0m\n",
      "\n",
      "\n",
      "\u001B[1m> Entering new LLMChain chain...\u001B[0m\n",
      "Prompt after formatting:\n",
      "\u001B[32;1m\u001B[1;3mOn the scale of 1 to 10, where 1 is purely mundane (e.g., brushing teeth, making bed) and 10 is extremely poignant (e.g., a break up, college acceptance), rate the likely poignancy of the following piece of memory. Respond with a single integer.\n",
      "Memory: Brian gets purpose from and honest day of work\n",
      "Rating: \u001B[0m\n",
      "\n",
      "\u001B[1m> Finished chain.\u001B[0m\n",
      "\n",
      "\n",
      "\u001B[1m> Entering new LLMChain chain...\u001B[0m\n",
      "Prompt after formatting:\n",
      "\u001B[32;1m\u001B[1;3mOn the scale of 1 to 10, where 1 is purely mundane (e.g., brushing teeth, making bed) and 10 is extremely poignant (e.g., a break up, college acceptance), rate the likely poignancy of the following piece of memory. Respond with a single integer.\n",
      "Memory: Brian is interested in football and casually plays in the local club\n",
      "Rating: \u001B[0m\n",
      "\n",
      "\u001B[1m> Finished chain.\u001B[0m\n",
      "\n",
      "\n",
      "\u001B[1m> Entering new LLMChain chain...\u001B[0m\n",
      "Prompt after formatting:\n",
      "\u001B[32;1m\u001B[1;3mOn the scale of 1 to 10, where 1 is purely mundane (e.g., brushing teeth, making bed) and 10 is extremely poignant (e.g., a break up, college acceptance), rate the likely poignancy of the following piece of memory. Respond with a single integer.\n",
      "Memory: Brian is not up to date with the world news as he feels they don't have influence on his life\n",
      "Rating: \u001B[0m\n",
      "\n",
      "\u001B[1m> Finished chain.\u001B[0m\n",
      "\n",
      "\n",
      "\u001B[1m> Entering new LLMChain chain...\u001B[0m\n",
      "Prompt after formatting:\n",
      "\u001B[32;1m\u001B[1;3mOn the scale of 1 to 10, where 1 is purely mundane (e.g., brushing teeth, making bed) and 10 is extremely poignant (e.g., a break up, college acceptance), rate the likely poignancy of the following piece of memory. Respond with a single integer.\n",
      "Memory: Brian plans to take over the family business at some point in his life. He has no ambitions to move away\n",
      "Rating: \u001B[0m\n",
      "\n",
      "\u001B[1m> Finished chain.\u001B[0m\n"
     ]
    }
   ],
   "execution_count": 9
  },
  {
   "cell_type": "markdown",
   "id": "8eaf776ec5191fdf",
   "metadata": {},
   "source": [
    "## Interacting with Agents"
   ]
  },
  {
   "cell_type": "markdown",
   "id": "4c2b8942f9ae377f",
   "metadata": {},
   "source": [
    "Observations or memories can also be added manually"
   ]
  },
  {
   "cell_type": "code",
   "id": "c21efb16ad9f530",
   "metadata": {
    "ExecuteTime": {
     "end_time": "2024-05-31T14:34:08.864528Z",
     "start_time": "2024-05-31T14:34:07.617572Z"
    }
   },
   "source": [
    "# the return value is not relevant\n",
    "brian.long_term_memory.add_memory(\"Brian met Nion last weekend at a football game where they drank a beer together\")"
   ],
   "outputs": [
    {
     "name": "stdout",
     "output_type": "stream",
     "text": [
      "\n",
      "\n",
      "\u001B[1m> Entering new LLMChain chain...\u001B[0m\n",
      "Prompt after formatting:\n",
      "\u001B[32;1m\u001B[1;3mOn the scale of 1 to 10, where 1 is purely mundane (e.g., brushing teeth, making bed) and 10 is extremely poignant (e.g., a break up, college acceptance), rate the likely poignancy of the following piece of memory. Respond with a single integer.\n",
      "Memory: Brian met Nion last weekend at a football game where they drank a beer together\n",
      "Rating: \u001B[0m\n",
      "\n",
      "\u001B[1m> Finished chain.\u001B[0m\n"
     ]
    },
    {
     "data": {
      "text/plain": [
       "['7892a0c6-78c9-4d00-9b56-4000f26377ca']"
      ]
     },
     "execution_count": 10,
     "metadata": {},
     "output_type": "execute_result"
    }
   ],
   "execution_count": 10
  },
  {
   "cell_type": "markdown",
   "id": "c9b21478",
   "metadata": {},
   "source": [
    "Now we can for example ask Brain a question.  \n",
    "`generate_dialogue_response` generates a reaction in the context of a conversation and indicates whether the agent stays in the conversation or says Goodbye.  "
   ]
  },
  {
   "cell_type": "code",
   "id": "3ef66c54073bb3aa",
   "metadata": {
    "ExecuteTime": {
     "end_time": "2024-05-31T14:34:42.491248Z",
     "start_time": "2024-05-31T14:34:08.869299Z"
    }
   },
   "source": [
    "observation = 'Tom says What do you think about Nion?'\n",
    "stay_in_dialogue, observation = brian.generate_dialogue_response(observation)\n",
    "print(observation)"
   ],
   "outputs": [
    {
     "name": "stderr",
     "output_type": "stream",
     "text": [
      "INFO:memory:Fetching relevant memories for given queries\n",
      "INFO:memory:queries: [\"Brian's core characteristics\"]\n"
     ]
    },
    {
     "name": "stdout",
     "output_type": "stream",
     "text": [
      "In _generate_reaction: Get current agent summary\n",
      "In get_summary: Compute new agent summary\n",
      "In _compute_agent_summary: \n",
      "\n",
      "\n",
      "\u001B[1m> Entering new LLMChain chain...\u001B[0m\n",
      "Prompt after formatting:\n",
      "\u001B[32;1m\u001B[1;3mHow would you summarize Brian's core characteristics given the following statements:\n",
      "- [May 31, 2024, 04:33 PM] Brian has a close relationship with his parents\n",
      "- [May 31, 2024, 04:33 PM] Brian gets purpose from and honest day of work\n",
      "- [May 31, 2024, 04:33 PM] Brian lives in the small town he grew up in\n",
      "- [May 31, 2024, 04:33 PM] Brian works in the family business which provides gardening services\n",
      "- [May 31, 2024, 04:33 PM] Brian is interested in football and casually plays in the local club\n",
      "- [May 31, 2024, 04:33 PM] Brian plans to take over the family business at some point in his life. He has no ambitions to move away\n",
      "- [May 31, 2024, 04:33 PM] Brian lives in an apartment next door to his parents\n",
      "- [May 31, 2024, 04:33 PM] Brian is not up to date with the world news as he feels they don't have influence on his life\n",
      "- [May 31, 2024, 04:34 PM] Brian met Nion last weekend at a football game where they drank a beer together \n",
      "Do not embellish.\n",
      "\n",
      "Summary: \u001B[0m\n",
      "\n",
      "\u001B[1m> Finished chain.\u001B[0m\n",
      "In _generate_reaction: Summarize related memories\n",
      "In summarize_related_memories: Get entity from Observation\n",
      "In _get_entity_from_observation: \n",
      "\n",
      "\n",
      "\u001B[1m> Entering new LLMChain chain...\u001B[0m\n",
      "Prompt after formatting:\n",
      "\u001B[32;1m\u001B[1;3mWho or what is talking or acting in the following observation: Tom says What do you think about Nion?\n",
      "Answer with a single expression\u001B[0m\n",
      "\n",
      "\u001B[1m> Finished chain.\u001B[0m\n",
      "Answer: Entity  is Tom\n",
      "In summarize_related_memories: Get entity action\n",
      "\n",
      "\n",
      "\u001B[1m> Entering new LLMChain chain...\u001B[0m\n",
      "Prompt after formatting:\n",
      "\u001B[32;1m\u001B[1;3mDescribe in one sentence what Tom is doing in the following observation? Tom says What do you think about Nion?\n",
      "Tom is...\u001B[0m\n"
     ]
    },
    {
     "name": "stderr",
     "output_type": "stream",
     "text": [
      "INFO:memory:Fetching relevant memories for given queries\n",
      "INFO:memory:queries: ['What is the relationship between Brian and Tom', \"Tom is asking for someone's opinion on Nion.\"]\n"
     ]
    },
    {
     "name": "stdout",
     "output_type": "stream",
     "text": [
      "\n",
      "\u001B[1m> Finished chain.\u001B[0m\n",
      "Answer: Tom is asking for someone's opinion on Nion.\n",
      "\n",
      "\n",
      "\u001B[1m> Entering new LLMChain chain...\u001B[0m\n",
      "Prompt after formatting:\n",
      "\u001B[32;1m\u001B[1;3mGiven the presented context from memory:\n",
      "Provide a short summary of the relationship between Brian and Tom\n",
      "Provide a short summary of the relevant memories regarding the observation\n",
      "Context from memory:\n",
      "- [May 31, 2024, 04:33 PM] Brian has a close relationship with his parents\n",
      "- [May 31, 2024, 04:33 PM] Brian gets purpose from and honest day of work\n",
      "- [May 31, 2024, 04:34 PM] Brian met Nion last weekend at a football game where they drank a beer together\n",
      "- [May 31, 2024, 04:33 PM] Brian lives in an apartment next door to his parents\n",
      "- [May 31, 2024, 04:33 PM] Brian works in the family business which provides gardening services\n",
      "- [May 31, 2024, 04:33 PM] Brian plans to take over the family business at some point in his life. He has no ambitions to move away\n",
      "- [May 31, 2024, 04:33 PM] Brian lives in the small town he grew up in\n",
      "- [May 31, 2024, 04:33 PM] Brian is interested in football and casually plays in the local club\n",
      "- [May 31, 2024, 04:33 PM] Brian is not up to date with the world news as he feels they don't have influence on his life\n",
      "- [May 31, 2024, 04:34 PM] Brian met Nion last weekend at a football game where they drank a beer together\n",
      "- [May 31, 2024, 04:33 PM] Brian plans to take over the family business at some point in his life. He has no ambitions to move away\n",
      "- [May 31, 2024, 04:33 PM] Brian has a close relationship with his parents\n",
      "- [May 31, 2024, 04:33 PM] Brian gets purpose from and honest day of work\n",
      "- [May 31, 2024, 04:33 PM] Brian is not up to date with the world news as he feels they don't have influence on his life\n",
      "- [May 31, 2024, 04:33 PM] Brian is interested in football and casually plays in the local club\n",
      "- [May 31, 2024, 04:33 PM] Brian works in the family business which provides gardening services\n",
      "- [May 31, 2024, 04:33 PM] Brian lives in the small town he grew up in\n",
      "- [May 31, 2024, 04:33 PM] Brian lives in an apartment next door to his parents\n",
      "Observation:\n",
      "Tom says What do you think about Nion?\n",
      "Only answer based on the provided memories and DO NOT assume anything else.\n",
      "For each of the two summaries, only consider the memories which are relevant to that summary.\n",
      "Answer with a maximum of two sentences for each point and answer in the following form\n",
      "Relationship between Brian and Tom:...\n",
      "Summary of relevant memories:...\u001B[0m\n",
      "\n",
      "\u001B[1m> Finished chain.\u001B[0m\n",
      "Answer: Relationship between Brian and Tom: There is no information provided about a relationship between Brian and Tom.\n",
      "\n",
      "Summary of relevant memories: The provided memories do not mention Tom or any interactions between Brian and Tom.\n",
      "\n",
      "\n",
      "\u001B[1m> Entering new LLMChain chain...\u001B[0m\n",
      "Prompt after formatting:\n",
      "\u001B[32;1m\u001B[1;3mName: Brian (age: 28)\n",
      "Character traits: talkative, extraverted\n",
      "Current Goal: enjoying his weekend\n",
      "Communication Stylemidwestern accent, prefers smalltalk\n",
      "Brian is deeply rooted in his community and family, valuing the close connections he maintains, especially with his parents. He derives satisfaction from work, particularly through his involvement in the family-owned gardening business. His life is centered in the small town of his upbringing, where he actively participates in local activities like playing football. Brian has a clear vision for his future, intending to continue his life in his hometown and eventually take over the family business. He lives in close proximity to his parents, showing a strong family bond. Brian shows little interest in global affairs, feeling they do not impact his life directly. His social life includes engaging with community members, as illustrated by his recent interaction with someone named Nion during a football game.\n",
      "It is May 31, 2024, 04:34 PM.\n",
      "Brian's status: Works at his parents gardening company\n",
      "Summary of relevant context from Brian's memory:\n",
      "Relationship between Brian and Tom: There is no information provided about a relationship between Brian and Tom.\n",
      "\n",
      "Summary of relevant memories: The provided memories do not mention Tom or any interactions between Brian and Tom.\n",
      "Summary of what has happened so far in the current situation or conversation:\n",
      "\n",
      "The current observation to which Brian reacts: Tom says What do you think about Nion?\n",
      "Brian's reaction should be in line with its current goal\n",
      "Brian's reaction should be in line with the given character traits and the agents communication style\n",
      "\n",
      "What would Brian say? To end the conversation, write: [GOODBYE] Brian: \"what to say\". Otherwise to continue the conversation, write: [SAY] Brian: \"what to say next\"\n",
      "\n",
      "\u001B[0m\n",
      "\n",
      "\n",
      "\u001B[1m> Entering new LLMChain chain...\u001B[0m\n",
      "Prompt after formatting:\n",
      "\u001B[32;1m\u001B[1;3mProgressively summarize the lines of conversation provided, adding onto the previous summary returning a new summary.\n",
      "\n",
      "EXAMPLE\n",
      "Current summary:\n",
      "The human asks what the AI thinks of artificial intelligence. The AI thinks artificial intelligence is a force for good.\n",
      "\n",
      "New lines of conversation:\n",
      "Human: Why do you think artificial intelligence is a force for good?\n",
      "AI: Because artificial intelligence will help humans reach their full potential.\n",
      "\n",
      "New summary:\n",
      "The human asks what the AI thinks of artificial intelligence. The AI thinks artificial intelligence is a force for good because it will help humans reach their full potential.\n",
      "END OF EXAMPLE\n",
      "\n",
      "Current summary:\n",
      "\n",
      "\n",
      "New lines of conversation:\n",
      "Tom :  What do you think about Nion?\n",
      "Brian:  \"Oh, Nion? He's a pretty solid guy. Met him during a game last weekend. Seems like he's got a good head on his shoulders, you know? How about you, what's your take on him?\"\n",
      "\n",
      "New summary:\u001B[0m\n"
     ]
    },
    {
     "name": "stderr",
     "output_type": "stream",
     "text": [
      "INFO:short_term_memory:current summary:Tom inquires about Brian's opinion on Nion, to which Brian responds positively, noting Nion's solid character and good judgment from their encounter during a game last weekend. He then asks Tom for his perspective on Nion.\n"
     ]
    },
    {
     "name": "stdout",
     "output_type": "stream",
     "text": [
      "\n",
      "\u001B[1m> Finished chain.\u001B[0m\n",
      "\n",
      "\u001B[1m> Finished chain.\u001B[0m\n",
      "Brian: \"Oh, Nion? He's a pretty solid guy. Met him during a game last weekend. Seems like he's got a good head on his shoulders, you know? How about you, what's your take on him?\"\n"
     ]
    }
   ],
   "execution_count": 11
  },
  {
   "cell_type": "markdown",
   "id": "d1111ed8cd634df8",
   "metadata": {},
   "source": [
    "As verbose is set to True, we get a whole wall of text that explains what is going on under the hood. <br>\n",
    "\n",
    "- The Info messages are logged by the long-term memory and indicate for which queries relevant memories are fetched.\n",
    "    - Relevant meaning the smallest euclidean distance to the queries in embedding space \n",
    "    - The placement of the info messages are not exactt, they happen when a chain is called that uses queries to LTM\n",
    "- The green texts are the prompts for every call to the LLM\n",
    "- The white print statements are infos that indicate in which function the process currently is and what is being done\n",
    " \n",
    "Let's go through it step by step: <br>\n",
    "- First _generate_reaction is called by generate_dialogue response\n",
    "\n",
    "**Compute Agent Summary**\n",
    "\n",
    "- Then _compute agent summary is called\n",
    "    - This only happens when there is no summary at the creation of a character \n",
    "    - or if a certain amount of time has passed, therefore requiring a new summary\n",
    "    - This is controlled by agent.summary_refresh_seconds, on default it is refreshed once every hour\n",
    "- Next we see an LMM Prompt that summarizes brian's core characteristics, based on the queried memories\n",
    "    - The query is displayed in the INFO message from the LTM Module\n",
    "\n",
    "**Context from memory**\n",
    "- _summarize_related_memories is called by _generate_reaction\n",
    "    - this function provides a summary of relevant memories regarding the given observation\n",
    "- First _get_entity_from_observation is called\n",
    "    - A prompt identifies the acting entity in the observation, which should be Tom\n",
    "- Next _get_entity_action is called to describe what the entity is doing in the observation\n",
    "- This information is used to form two queries for the LTM (info message)\n",
    "    1. Regarding the relationship between the agent and the entity\n",
    "    2. Regarding the action of the entity       \n",
    "- The fetched memories are formatted in the next prompt, which summarizes the information from memory, regarding the relationship and the action of the entity\n",
    "    - Ideally this should result in no information regarding the relationship of Brain and Tom as no information is present in Memory\n",
    "    -  Regarding the action of asking about Nion, the summary should mention that Brain met him at a football game last weekend\n",
    "\n",
    "**Putting the information together**\n",
    "\n",
    "The next prompt unites all the relevant information about the character and the observation <br>\n",
    "- First there is general information about the character including the fixed personality traits and communication style <br>\n",
    "- Then comes the computed agent summary with general information about the agent <br>\n",
    "- The agents status and the current time (Might move that to the top)\n",
    "- The summarized memories about the relationship and the content of the observation\n",
    "- The summary of the conversation so far: empty in this case\n",
    "- Instructions for generating the characters reaction\n",
    "\n",
    "Now the reaction is generated <br>\n",
    "Upon finishing that chain the observation and the agents reaction are stored in the STM module, followed by a prompt that updates the summary \n",
    "using the newly added lines.\n"
   ]
  },
  {
   "cell_type": "markdown",
   "id": "ce43b06ab0104050",
   "metadata": {},
   "source": [
    "As that is quite a lot of text, set verbose to False now"
   ]
  },
  {
   "cell_type": "code",
   "id": "5adc1d47d523ae3d",
   "metadata": {
    "ExecuteTime": {
     "end_time": "2024-05-31T14:42:24.481919Z",
     "start_time": "2024-05-31T14:42:24.478547Z"
    }
   },
   "source": [
    "brian.verbose = False\n",
    "brian.long_term_memory.verbose = False\n",
    "brian.short_term_memory.verbose = False"
   ],
   "outputs": [],
   "execution_count": 20
  },
  {
   "metadata": {},
   "cell_type": "markdown",
   "source": [
    "If the situation is not necessarily a dialogue, use the method `agent.generate_reaction`.  \n",
    "The agent decides whether a verbal response , some other kind of reaction or no reaction is adequate.   \n",
    "This is useful if you want to connect these agents to some kind of environment which allows for nonverbal action."
   ],
   "id": "d1ca02061a3b4a10"
  },
  {
   "metadata": {
    "ExecuteTime": {
     "end_time": "2024-05-31T14:35:01.090338Z",
     "start_time": "2024-05-31T14:34:42.498382Z"
    }
   },
   "cell_type": "code",
   "source": [
    "# Function return true if response adheres to React: ... or Said: ...\n",
    "observation = 'A wild bear suddenly appears on the street'\n",
    "brian.generate_reaction(observation)"
   ],
   "id": "19dad13443387051",
   "outputs": [
    {
     "data": {
      "text/plain": [
       "(False,\n",
       " 'Brian Brian, visibly surprised and cautious, quickly alerts others nearby, saying, \"Woah, look at that bear over there! We should probably keep a safe distance, huh?\"')"
      ]
     },
     "execution_count": 13,
     "metadata": {},
     "output_type": "execute_result"
    }
   ],
   "execution_count": 13
  },
  {
   "metadata": {},
   "cell_type": "markdown",
   "source": "TODO: Something is off with the response formatting in generate_reaction",
   "id": "d5d2504a15bf7255"
  },
  {
   "metadata": {},
   "cell_type": "markdown",
   "source": [
    "## Saving and Loading Agents\n",
    "\n",
    "If you want your agents to live longer than one python runtime you can save them.  \n",
    "\n",
    "In case you use the same agent multiple times, I also recommend saving them and loading every time rather than creating a new one.\n",
    "This saves the LLM calls that are used to rank the importance of the initial memories."
   ],
   "id": "36fadd0ab001dc9e"
  },
  {
   "cell_type": "code",
   "id": "a6c58d6a92ef444d",
   "metadata": {
    "ExecuteTime": {
     "end_time": "2024-05-31T14:35:01.109330Z",
     "start_time": "2024-05-31T14:35:01.096360Z"
    }
   },
   "source": [
    "from gen_agent import GenerativeAgent\n",
    "# specify a path for the character to be stored\n",
    "path = 'saved_characters/brian_test'\n",
    "GenerativeAgent.save_instance(brian, path)"
   ],
   "outputs": [],
   "execution_count": 14
  },
  {
   "metadata": {},
   "cell_type": "markdown",
   "source": [
    "The saved agent is a folder with a config for the agent, the ltm, the stm and a file with the ltm vectorstore.\n",
    "Not every part of the agent can be serialized in the same manner. Therefore we store the configurations and the vectorstore and create a new agent object upon loading"
   ],
   "id": "ef0ddd2f52bfd0"
  },
  {
   "cell_type": "code",
   "id": "cf8e49522187dda2",
   "metadata": {
    "ExecuteTime": {
     "end_time": "2024-05-31T14:35:01.331416Z",
     "start_time": "2024-05-31T14:35:01.112281Z"
    }
   },
   "source": "! ls saved_characters/brian_test",
   "outputs": [
    {
     "name": "stdout",
     "output_type": "stream",
     "text": [
      "agent_dict.json  faiss_vector_store.index  ltm_dict.json  stm_dict.json\r\n"
     ]
    }
   ],
   "execution_count": 15
  },
  {
   "metadata": {},
   "cell_type": "markdown",
   "source": [
    "If you provide an already existing path it will be overwritten. Be careful when dealing with different versions of the same character.\n",
    "\n",
    "\n",
    "Now we can load the agent."
   ],
   "id": "78b1ad1e72ef3d0d"
  },
  {
   "cell_type": "code",
   "id": "b09d3c2f61d46471",
   "metadata": {
    "ExecuteTime": {
     "end_time": "2024-05-31T14:35:01.569704Z",
     "start_time": "2024-05-31T14:35:01.334010Z"
    }
   },
   "source": "brian_loaded = GenerativeAgent.load_instance(path)",
   "outputs": [],
   "execution_count": 16
  },
  {
   "metadata": {},
   "cell_type": "markdown",
   "source": [
    "**Note**  \n",
    "At the moment the loading function creates a new memory retriever with the loaded Faiss index with default configurations, as langchain does not provide save or load functionality for the retrievers.\n",
    "Therefore retrievers with custom configs need to be recreated manually with the vectorstore from the automatically created default retriever."
   ],
   "id": "434058025352fdb6"
  },
  {
   "metadata": {},
   "cell_type": "markdown",
   "source": [
    "## A Conversation Between Agents\n",
    "\n",
    "First of all we need a second agent for Brian to have a conversation with"
   ],
   "id": "f1442aece6623184"
  },
  {
   "metadata": {
    "ExecuteTime": {
     "end_time": "2024-05-31T14:35:39.936067Z",
     "start_time": "2024-05-31T14:35:01.570632Z"
    }
   },
   "cell_type": "code",
   "source": [
    "from utils import create_agent_from_config\n",
    "path_eli = 'characters/eli.txt'\n",
    "eli = create_agent_from_config(path_eli)\n",
    "path_brian = 'characters/brian.txt'\n",
    "brian = create_agent_from_config(path_brian)\n",
    "print(eli.get_summary())"
   ],
   "id": "f846a9d29a6052cf",
   "outputs": [
    {
     "name": "stdout",
     "output_type": "stream",
     "text": [
      "Name: Eli (age: 34)\n",
      "Character traits: introspective, resourceful, empathetic\n",
      "Current Goal: N/A\n",
      "Communication Styleobservant and attentive, speaks with depth and thoughtfulness\n",
      "Eli is a family-oriented individual with a strong connection to his rural roots, which have influenced his career and personal values. He is dedicated to promoting sustainable agriculture and green living, especially in urban environments. Eli actively participates in community gardening and advocates for food security, utilizing his innovative approach to sustainable living that is supported and celebrated by his family. He also enjoys socializing through intimate gatherings, often highlighting his commitment to sustainability by featuring produce from his own projects.\n"
     ]
    }
   ],
   "execution_count": 17
  },
  {
   "metadata": {},
   "cell_type": "markdown",
   "source": [
    "If you want to experiment with other characters, you can create the character.txt files in no time with ChatGPT.  \n",
    "Just paste one as an example for the formatting and give some starting ideas about the character you want to have created.\n",
    "\n",
    " \n"
   ],
   "id": "6f11ce26eb584a50"
  },
  {
   "metadata": {},
   "cell_type": "markdown",
   "source": [
    "### STM to LTM Transfer\n",
    "In our earlier interaction with brian our question and his reaction were stored in his STM memory. <br>\n",
    "However, it was not transferred to the STM module.\n",
    "\n",
    "The transfer from STM to LTM is controlled by the beginning and end of a \"situation\". <br>\n",
    "In my use case this is usually one conversation with another character, although the boundaries of a situation can be arbitrarily set. <br>\n",
    "At the start of a situation the STM is cleared (as a precaution for some unrelated residue like our earlier question) <br>\n",
    "At the end of a situation the information in the STM is summarized and appraised by the character (and also cleared). <br>\n",
    "Summary and Appraisal are then stored in the LTM module as new memories. <br>\n",
    "This allows for the separation of more high level information for LTM and more detailed information that might only be relevant in the current situation. <br>\n",
    "It also allows the agent to reflect on the content of a situation. <br>\n",
    "\n",
    "Currently, situations are started and ended manually by calling the functions  `agent.start_situation()` and `agent.end_situation()`\n"
   ],
   "id": "9e7659cdcdd87d4f"
  },
  {
   "metadata": {},
   "cell_type": "markdown",
   "source": [
    "For a simple conversation between two people there is convenience function.  \n",
    "**Note:** Right now the STM module only works for interactions between two agents\n",
    "\n",
    "We need to pass some form of initial observation to kick of the conversation.  \n",
    "This can be the first line of dialogue or some other event.  \n",
    "The initial observation is reacted to by the second agent of the list.\n"
   ],
   "id": "dd39d130b5a937b0"
  },
  {
   "metadata": {
    "ExecuteTime": {
     "end_time": "2024-05-31T14:41:03.414033Z",
     "start_time": "2024-05-31T14:35:39.939185Z"
    }
   },
   "cell_type": "code",
   "source": [
    "from utils import run_conversation\n",
    "brian.start_situation()\n",
    "eli.start_situation()\n",
    "initial_observation = \"Brian: Hey, I haven't seen you in this bar before. How's it going?\"\n",
    "dialogue = run_conversation(agents=[brian, eli], initial_observation=initial_observation, max_turns=8, verbose=True)"
   ],
   "id": "1f1be0593437c294",
   "outputs": [
    {
     "name": "stdout",
     "output_type": "stream",
     "text": [
      "Eli: \"It's going pretty well, thanks for asking. I don't often find myself in bars, but I thought it might be nice to change up\n",
      "the scenery a bit. How about yourself? Do you come here often?\"\n",
      "____\n",
      "Brian: \"Oh, I hear ya. It's always good to switch things up a bit. Yeah, I come here now and then. It's a nice spot\n",
      "to unwind, you know? The atmosphere is just right, and it's not too far from where I work. Plus, meeting new folks is always a\n",
      "bonus. How about you? What made you decide to give this place a try tonight?\"\n",
      "____\n",
      "Eli: \"I can definitely see the appeal of finding a good spot to unwind. For me, tonight was more about stepping out of my usual\n",
      "routine, trying something new. I spend a lot of my time outdoors, working with the land, so an evening in a different setting seemed like\n",
      "a refreshing change. Plus, I'm always interested in learning about places that might value sustainability and community, even in an urban setting. How about you?\n",
      "Do you find that this place aligns with any of your personal values or interests?\"\n",
      "____\n",
      "Brian: \"Oh, definitely! It's kinda funny how a place like this can surprise you, right? I mean, on the surface, it's just a bar, but\n",
      "it's got this friendly, community vibe that I really appreciate. Reminds me a bit of the camaraderie we have in the family business and the\n",
      "local football club. Plus, they've started using more local suppliers recently, trying to keep things sustainable, which I think is pretty cool. It's not just\n",
      "about grabbing a drink but supporting the community too. Sounds like that's right up your alley as well, with your interest in sustainability and all.\"\n",
      "____\n",
      "Eli: \"It's really refreshing to hear that, Brian. I think it's essential for businesses, especially bars and restaurants, to recognize their role in the community\n",
      "and the impact they can have on local economies and the environment. It's encouraging to see a place like this making an effort to source\n",
      "locally and foster a sense of community. It definitely makes me more interested in supporting them. Have you noticed any specific changes or improvements since\n",
      "they started focusing on local suppliers and sustainability?\"\n",
      "____\n",
      "Brian: \"Oh, absolutely, Eli. It's been fantastic seeing the transformation. The quality of food and drinks has skyrocketed since they started sourcing locally. Plus, there's\n",
      "a genuine pride in the air, knowing we're supporting our neighbors. They've also started hosting more community events here, which has been great for bringing\n",
      "people together and boosting the local scene. It’s like, every time you come, you’re contributing to something bigger than just a night out. Makes the\n",
      "whole experience feel more rewarding, you know?\"\n",
      "____\n",
      "Eli: \"That's exactly what draws me to places like this, Brian. The idea that our choices, even as simple as where we decide to spend\n",
      "an evening, can contribute to a larger, positive change within the community is truly inspiring. It's this kind of sustainable thinking and local support that\n",
      "I believe can revolutionize how we view our economic and environmental responsibilities. Plus, knowing the story behind the food and the people who grow it\n",
      "adds an invaluable layer to the dining experience. It's heartening to hear that more community events are being planned; it's a great way to deepen\n",
      "those local connections. Do you have any favorite events or changes that have stood out to you since the bar started integrating these practices?\"\n",
      "____\n",
      "Brian: \"Oh, absolutely, Eli. It's amazing to see how small choices like this ripple through the community. For me, the local farmers' market events they've\n",
      "started hosting right here in the parking lot have been a game changer. It's like a mini festival every time – live music, great food,\n",
      "and a chance to meet the folks who grow your dinner. And it ties back to what we're all about at the gardening company, too\n",
      "– supporting local, sustainable efforts. It's that sense of community that really makes you feel like you're part of something bigger, you know? Plus, it's\n",
      "a great spot to relax and catch up with folks I don't see too often. How about you? Any particular event or change that's caught\n",
      "your eye?\"\n",
      "____\n",
      "Eli: \"Brian, hearing about the farmers' market events really warms my heart. It's exactly the kind of initiative that resonates with my ethos. There’s something\n",
      "truly special about connecting directly with the people who grow our food. It fosters a deep appreciation for the hard work that goes into sustainable\n",
      "farming. For me, one of the standout changes has been the introduction of composting stations at these events. It's a small step, but it sends\n",
      "a powerful message about reducing waste and giving back to the earth. It aligns perfectly with the cycle of sustainability we promote in urban agriculture.\n",
      "Plus, it’s been a fantastic educational tool for the community, especially for kids, showing them the importance of composting right from the start. Have you\n",
      "noticed how these little changes are starting to shift people's perceptions about sustainability?\"\n",
      "____\n",
      "Brian: \"Absolutely, Eli! I've seen firsthand the impact of those composting stations. It's like you said, a small step, but the ripple effects are huge.\n",
      "People start with composting, and next thing, they're asking about organic gardening, looking into more sustainable living options. It's all about making sustainability accessible and\n",
      "understandable to everyone. And at our family business, we're trying to do our part too. We've been focusing on using and promoting eco-friendly gardening practices.\n",
      "It’s rewarding to see customers get excited about making their own gardens more sustainable. It's these kinds of community initiatives that really bring us together\n",
      "and show that everyone has a role to play in protecting our planet. Plus, getting the kids involved early on is key. They're the future,\n",
      "and seeing them learn about sustainability, well, it gives me hope. Have you been involved in any of the education or outreach at these events?\"\n",
      "____\n",
      "Eli: \"Absolutely, Brian. Education and outreach are actually some of the core aspects of my work. Engaging with the community, especially the younger generation, is\n",
      "incredibly fulfilling. It's about planting seeds of awareness and stewardship for the environment early on. I've had the chance to lead a few workshops at\n",
      "local schools and community centers, focusing on simple sustainable practices that kids and their families can adopt at home. It's amazing to see their curiosity\n",
      "and enthusiasm. And, you're right, it's about making these concepts accessible. By breaking down sustainability into manageable actions, we empower people to contribute to a\n",
      "healthier planet. It's these small changes, multiplied across communities, that lead to significant environmental benefits. I'm glad to hear your family business is also championing\n",
      "eco-friendly practices. It's partnerships and collaborations like these that amplify our impact. Have you considered any joint community projects or workshops that could combine our\n",
      "efforts?\"\n",
      "____\n",
      "Brian: \"You know what, Eli? That's a fantastic idea. I've always believed that our business can do more than just sell gardening supplies and services.\n",
      "Engaging directly with the community, especially in educating the younger folks, aligns perfectly with our ethos. I can already picture a series of workshops where\n",
      "we could teach kids about composting, recycling rainwater, and maybe even a little bit about planting their own little gardens. It's hands-on, it's fun, and\n",
      "it drives home the message of sustainability. Plus, having someone with your expertise and passion onboard would undoubtedly enrich the experience. Let's sit down sometime\n",
      "next week and hash out some of these ideas, see where our efforts could complement each other best. How does that sound to you?\"\n",
      "____\n",
      "Eli: \"Brian, that sounds like a wonderful opportunity. I'm genuinely excited about the potential we have to make a real difference in the community together.\n",
      "Educating the younger generation on sustainable practices not only empowers them but also ensures a lasting impact on our environment. Your idea of hands-on workshops\n",
      "is exactly the kind of engaging and meaningful activity that can spark interest and foster a deeper understanding of green living. I'd be thrilled to\n",
      "collaborate and bring my knowledge to the table. Let's definitely sit down next week to plan this out. I have a few ideas already brewing\n",
      "that I think could add great value to what you're envisioning. Thank you for considering me for this; it's exactly the kind of initiative I've\n",
      "been hoping to be a part of.\"\n",
      "____\n",
      "Brian: \"Eli, hearing you're just as pumped as I am about this really lights a fire under me! It's refreshing to meet someone who's not\n",
      "just talk but is eager to dive in and make things happen. Your experience with workshops is going to be invaluable, and I can't wait\n",
      "to see what ideas you're brewing. Let's make sure we carve out some time next week to sit down and get the ball rolling. I'm\n",
      "all in for creating something that's not only educational but also fun and engaging for the kids and their families. This is the kind of\n",
      "partnership that can genuinely steer our community towards a brighter, greener future. Thanks for being on board, man. It means a lot.\"\n",
      "____\n",
      "Eli: \"Brian, I'm equally thrilled about this collaboration. It's not every day you find someone whose enthusiasm for sustainability and education matches your own. I've\n",
      "got a few ideas percolating that I believe could really resonate with the community and amplify our message on sustainable living. Next week sounds perfect\n",
      "for diving deeper into planning. Your vision for an engaging, informative program aligns perfectly with what I've been hoping to achieve. Let's aim to make\n",
      "our sessions not just informative but also inspiring, empowering attendees to make tangible changes in their daily lives. Thank you for recognizing the value in\n",
      "this partnership—I'm convinced we're on the cusp of something truly impactful.\"\n",
      "____\n",
      "Brian: \"Eli, hearing you talk about your ideas and seeing your enthusiasm, it's invigorating. I'm all in for creating something that not only educates but\n",
      "also motivates our community to embrace more sustainable practices. It's essential that we make these sessions as interactive and relatable as possible. Maybe we can\n",
      "incorporate some hands-on activities or even a small project that participants can take home. It's about making sustainability personal and actionable, right? I can't wait\n",
      "to hash out the details with you next week. And hey, thanks for being so passionate about this. It's refreshing to team up with someone\n",
      "who shares the same drive for making a positive impact. Let's make sure our planning session is packed with creativity and coffee!\" [GOODBYE] Brian: \"Alright,\n",
      "Eli, it's been a great chat. I've got to head out, but let's keep this momentum going. I'll shoot you a message so we can\n",
      "set a date for next week. Looking forward to it!\"\n",
      "____\n",
      "Eli: \"Absolutely, Brian, I'm really looking forward to it as well. Your enthusiasm adds a whole new level of excitement to the project. Incorporating hands-on\n",
      "activities is a fantastic idea; it'll definitely bring our vision of making sustainability personal and actionable to life. Let's make sure to brainstorm some engaging\n",
      "projects that can leave a lasting impression. And yes, let's fuel our planning session with plenty of creativity and coffee! I'll be ready with some\n",
      "ideas and can't wait to see what we come up with together. Thanks for a great conversation today, it's always energizing to share and develop\n",
      "ideas with someone as passionate about this as you are. Safe travels home, and I'll be on the lookout for your message. Have a great\n",
      "evening!\"\n"
     ]
    }
   ],
   "execution_count": 18
  },
  {
   "metadata": {},
   "cell_type": "markdown",
   "source": "Let's see what happens when we end the situation",
   "id": "5e48a5564365d639"
  },
  {
   "metadata": {
    "ExecuteTime": {
     "end_time": "2024-05-31T14:42:24.465525Z",
     "start_time": "2024-05-31T14:41:03.418573Z"
    }
   },
   "cell_type": "code",
   "source": [
    "brian.verbose = True\n",
    "eli.verbose = True\n",
    "brian.end_situation()\n",
    "eli.end_situation()\n",
    "brian.verbose = False\n",
    "eli.verbose = False"
   ],
   "id": "2c2fe0bb1579a873",
   "outputs": [
    {
     "name": "stdout",
     "output_type": "stream",
     "text": [
      "In _reflect_on_situation: summarizing situation\n",
      "\n",
      "\n",
      "\u001B[1m> Entering new LLMChain chain...\u001B[0m\n",
      "Prompt after formatting:\n",
      "\u001B[32;1m\u001B[1;3mYou will be provided with a record of a situation.\n",
      "If that situation is a conversation:\n",
      "What are the key points or arguments of the following conversation and by whom were they made?\n",
      "If not: What are the key actions and events in that situation?\n",
      "The situation:\n",
      "Eli :  \"It's going pretty well, thanks for asking. I don't often find myself in bars, but I thought it might be nice to change up the scenery a bit. How about yourself? Do you come here often?\"\n",
      "Brian:  \"Oh, I hear ya. It's always good to switch things up a bit. Yeah, I come here now and then. It's a nice spot to unwind, you know? The atmosphere is just right, and it's not too far from where I work. Plus, meeting new folks is always a bonus. How about you? What made you decide to give this place a try tonight?\"\n",
      "Eli :  \"I can definitely see the appeal of finding a good spot to unwind. For me, tonight was more about stepping out of my usual routine, trying something new. I spend a lot of my time outdoors, working with the land, so an evening in a different setting seemed like a refreshing change. Plus, I'm always interested in learning about places that might value sustainability and community, even in an urban setting. How about you? Do you find that this place aligns with any of your personal values or interests?\"\n",
      "Brian:  \"Oh, definitely! It's kinda funny how a place like this can surprise you, right? I mean, on the surface, it's just a bar, but it's got this friendly, community vibe that I really appreciate. Reminds me a bit of the camaraderie we have in the family business and the local football club. Plus, they've started using more local suppliers recently, trying to keep things sustainable, which I think is pretty cool. It's not just about grabbing a drink but supporting the community too. Sounds like that's right up your alley as well, with your interest in sustainability and all.\"\n",
      "Eli :  \"It's really refreshing to hear that, Brian. I think it's essential for businesses, especially bars and restaurants, to recognize their role in the community and the impact they can have on local economies and the environment. It's encouraging to see a place like this making an effort to source locally and foster a sense of community. It definitely makes me more interested in supporting them. Have you noticed any specific changes or improvements since they started focusing on local suppliers and sustainability?\"\n",
      "Brian:  \"Oh, absolutely, Eli. It's been fantastic seeing the transformation. The quality of food and drinks has skyrocketed since they started sourcing locally. Plus, there's a genuine pride in the air, knowing we're supporting our neighbors. They've also started hosting more community events here, which has been great for bringing people together and boosting the local scene. It’s like, every time you come, you’re contributing to something bigger than just a night out. Makes the whole experience feel more rewarding, you know?\"\n",
      "Eli :  \"That's exactly what draws me to places like this, Brian. The idea that our choices, even as simple as where we decide to spend an evening, can contribute to a larger, positive change within the community is truly inspiring. It's this kind of sustainable thinking and local support that I believe can revolutionize how we view our economic and environmental responsibilities. Plus, knowing the story behind the food and the people who grow it adds an invaluable layer to the dining experience. It's heartening to hear that more community events are being planned; it's a great way to deepen those local connections. Do you have any favorite events or changes that have stood out to you since the bar started integrating these practices?\"\n",
      "Brian:  \"Oh, absolutely, Eli. It's amazing to see how small choices like this ripple through the community. For me, the local farmers' market events they've started hosting right here in the parking lot have been a game changer. It's like a mini festival every time – live music, great food, and a chance to meet the folks who grow your dinner. And it ties back to what we're all about at the gardening company, too – supporting local, sustainable efforts. It's that sense of community that really makes you feel like you're part of something bigger, you know? Plus, it's a great spot to relax and catch up with folks I don't see too often. How about you? Any particular event or change that's caught your eye?\"\n",
      "Eli :  \"Brian, hearing about the farmers' market events really warms my heart. It's exactly the kind of initiative that resonates with my ethos. There’s something truly special about connecting directly with the people who grow our food. It fosters a deep appreciation for the hard work that goes into sustainable farming. For me, one of the standout changes has been the introduction of composting stations at these events. It's a small step, but it sends a powerful message about reducing waste and giving back to the earth. It aligns perfectly with the cycle of sustainability we promote in urban agriculture. Plus, it’s been a fantastic educational tool for the community, especially for kids, showing them the importance of composting right from the start. Have you noticed how these little changes are starting to shift people's perceptions about sustainability?\"\n",
      "Brian:  \"Absolutely, Eli! I've seen firsthand the impact of those composting stations. It's like you said, a small step, but the ripple effects are huge. People start with composting, and next thing, they're asking about organic gardening, looking into more sustainable living options. It's all about making sustainability accessible and understandable to everyone. And at our family business, we're trying to do our part too. We've been focusing on using and promoting eco-friendly gardening practices. It’s rewarding to see customers get excited about making their own gardens more sustainable. It's these kinds of community initiatives that really bring us together and show that everyone has a role to play in protecting our planet. Plus, getting the kids involved early on is key. They're the future, and seeing them learn about sustainability, well, it gives me hope. Have you been involved in any of the education or outreach at these events?\"\n",
      "Eli :  \"Absolutely, Brian. Education and outreach are actually some of the core aspects of my work. Engaging with the community, especially the younger generation, is incredibly fulfilling. It's about planting seeds of awareness and stewardship for the environment early on. I've had the chance to lead a few workshops at local schools and community centers, focusing on simple sustainable practices that kids and their families can adopt at home. It's amazing to see their curiosity and enthusiasm. And, you're right, it's about making these concepts accessible. By breaking down sustainability into manageable actions, we empower people to contribute to a healthier planet. It's these small changes, multiplied across communities, that lead to significant environmental benefits. I'm glad to hear your family business is also championing eco-friendly practices. It's partnerships and collaborations like these that amplify our impact. Have you considered any joint community projects or workshops that could combine our efforts?\"\n",
      "Brian:  \"You know what, Eli? That's a fantastic idea. I've always believed that our business can do more than just sell gardening supplies and services. Engaging directly with the community, especially in educating the younger folks, aligns perfectly with our ethos. I can already picture a series of workshops where we could teach kids about composting, recycling rainwater, and maybe even a little bit about planting their own little gardens. It's hands-on, it's fun, and it drives home the message of sustainability. Plus, having someone with your expertise and passion onboard would undoubtedly enrich the experience. Let's sit down sometime next week and hash out some of these ideas, see where our efforts could complement each other best. How does that sound to you?\"\n",
      "Eli :  \"Brian, that sounds like a wonderful opportunity. I'm genuinely excited about the potential we have to make a real difference in the community together. Educating the younger generation on sustainable practices not only empowers them but also ensures a lasting impact on our environment. Your idea of hands-on workshops is exactly the kind of engaging and meaningful activity that can spark interest and foster a deeper understanding of green living. I'd be thrilled to collaborate and bring my knowledge to the table. Let's definitely sit down next week to plan this out. I have a few ideas already brewing that I think could add great value to what you're envisioning. Thank you for considering me for this; it's exactly the kind of initiative I've been hoping to be a part of.\"\n",
      "Brian:  \"Eli, hearing you're just as pumped as I am about this really lights a fire under me! It's refreshing to meet someone who's not just talk but is eager to dive in and make things happen. Your experience with workshops is going to be invaluable, and I can't wait to see what ideas you're brewing. Let's make sure we carve out some time next week to sit down and get the ball rolling. I'm all in for creating something that's not only educational but also fun and engaging for the kids and their families. This is the kind of partnership that can genuinely steer our community towards a brighter, greener future. Thanks for being on board, man. It means a lot.\"\n",
      "Eli :  \"Brian, I'm equally thrilled about this collaboration. It's not every day you find someone whose enthusiasm for sustainability and education matches your own. I've got a few ideas percolating that I believe could really resonate with the community and amplify our message on sustainable living. Next week sounds perfect for diving deeper into planning. Your vision for an engaging, informative program aligns perfectly with what I've been hoping to achieve. Let's aim to make our sessions not just informative but also inspiring, empowering attendees to make tangible changes in their daily lives. Thank you for recognizing the value in this partnership—I'm convinced we're on the cusp of something truly impactful.\"\n",
      "Brian:  \"Eli, hearing you talk about your ideas and seeing your enthusiasm, it's invigorating. I'm all in for creating something that not only educates but also motivates our community to embrace more sustainable practices. It's essential that we make these sessions as interactive and relatable as possible. Maybe we can incorporate some hands-on activities or even a small project that participants can take home. It's about making sustainability personal and actionable, right? I can't wait to hash out the details with you next week. And hey, thanks for being so passionate about this. It's refreshing to team up with someone who shares the same drive for making a positive impact. Let's make sure our planning session is packed with creativity and coffee!\" [GOODBYE] Brian: \"Alright, Eli, it's been a great chat. I've got to head out, but let's keep this momentum going. I'll shoot you a message so we can set a date for next week. Looking forward to it!\"\n",
      "Give a list of up to 7 short and precise statements in the following form\n",
      "# statement 1\n",
      "# statement 2\n",
      "...\u001B[0m\n",
      "\n",
      "\u001B[1m> Finished chain.\u001B[0m\n",
      "In _reflect_on_situation: Appraising situation summary\n",
      "In get_summary: Using old summary\n",
      "\n",
      "\n",
      "\u001B[1m> Entering new LLMChain chain...\u001B[0m\n",
      "Prompt after formatting:\n",
      "\u001B[32;1m\u001B[1;3mName: Brian (age: 28)\n",
      "Character traits: talkative, extraverted\n",
      "Current Goal: enjoying his weekend\n",
      "Communication Stylemidwestern accent, prefers smalltalk\n",
      "Brian is closely connected to his family and hometown, finding fulfillment in contributing to the family business. He values hard work and maintains an interest in football, participating in local club activities.\n",
      "It is May 31, 2024, 04:41 PM.\n",
      "Brian's status: Works at his parents gardening company\n",
      "Relevant context from Brian's memory:\n",
      "- [May 31, 2024, 04:35 PM] Brian gets purpose from and honest day of work\n",
      "- [May 31, 2024, 04:35 PM] Brian has a close relationship with his parents\n",
      "- [May 31, 2024, 04:35 PM] Brian works in the family business which provides gardening services\n",
      "- [May 31, 2024, 04:35 PM] Brian lives in the small town he grew up in\n",
      "- [May 31, 2024, 04:35 PM] Brian is interested in football and casually plays in the local club\n",
      "The statements which Brian appraises: # Eli and Brian meet in a bar and discover a shared interest in sustainability and community involvement.\n",
      "# They discuss the bar's efforts to source locally and support the community, which aligns with their values.\n",
      "# Brian mentions the positive impact of the bar hosting local farmers' market events, highlighting the sense of community and support for local suppliers.\n",
      "# Eli appreciates the bar's introduction of composting stations at events, seeing it as a step towards sustainability and an educational tool.\n",
      "# Both express the importance of engaging the younger generation in sustainability through education and outreach.\n",
      "# They brainstorm the idea of collaborating on community workshops focused on sustainable practices, such as composting and gardening.\n",
      "# They plan to meet the following week to further discuss and plan these community engagement and education initiatives.\n",
      "Given the context from memory and the characters summary, what is Brian's emotional appraisal of the statements\n",
      "The appraisal can for example be a degree of agreement/disagreement or any kind of emotional response\n",
      "Answer precisely with one sentence per statement\n",
      "Answer in the following form:\n",
      "# [the first statement]: [appraisal]\n",
      "# [the second statement]: [appraisal]\n",
      " ...\u001B[0m\n",
      "\n",
      "\u001B[1m> Finished chain.\u001B[0m\n",
      "New memories: \n",
      " ['Eli and Brian meet in a bar and discover a shared interest in sustainability and community involvement: Brian is excited and feels a strong connection.\\n', \"They discuss the bar's efforts to source locally and support the community, which aligns with their values: Brian is proud and appreciative of the bar's initiatives.\\n\", \"Brian mentions the positive impact of the bar hosting local farmers' market events, highlighting the sense of community and support for local suppliers: Brian is enthusiastic and feels validated in his beliefs.\\n\", \"Eli appreciates the bar's introduction of composting stations at events, seeing it as a step towards sustainability and an educational tool: Brian is pleased and feels hopeful about the future.\\n\", 'Both express the importance of engaging the younger generation in sustainability through education and outreach: Brian is passionate and feels a sense of duty.\\n', 'They brainstorm the idea of collaborating on community workshops focused on sustainable practices, such as composting and gardening: Brian is inspired and eager to contribute.\\n', 'They plan to meet the following week to further discuss and plan these community engagement and education initiatives: Brian is motivated and looks forward to making a difference.']\n",
      "Adding new memories to LTM\n",
      "In _reflect_on_situation: summarizing situation\n",
      "\n",
      "\n",
      "\u001B[1m> Entering new LLMChain chain...\u001B[0m\n",
      "Prompt after formatting:\n",
      "\u001B[32;1m\u001B[1;3mYou will be provided with a record of a situation.\n",
      "If that situation is a conversation:\n",
      "What are the key points or arguments of the following conversation and by whom were they made?\n",
      "If not: What are the key actions and events in that situation?\n",
      "The situation:\n",
      "Brian :  Hey, I haven't seen you in this bar before. How's it going?\n",
      "Eli:  \"It's going pretty well, thanks for asking. I don't often find myself in bars, but I thought it might be nice to change up the scenery a bit. How about yourself? Do you come here often?\"\n",
      "Brian :  \"Oh, I hear ya. It's always good to switch things up a bit. Yeah, I come here now and then. It's a nice spot to unwind, you know? The atmosphere is just right, and it's not too far from where I work. Plus, meeting new folks is always a bonus. How about you? What made you decide to give this place a try tonight?\"\n",
      "Eli:  \"I can definitely see the appeal of finding a good spot to unwind. For me, tonight was more about stepping out of my usual routine, trying something new. I spend a lot of my time outdoors, working with the land, so an evening in a different setting seemed like a refreshing change. Plus, I'm always interested in learning about places that might value sustainability and community, even in an urban setting. How about you? Do you find that this place aligns with any of your personal values or interests?\"\n",
      "Brian :  \"Oh, definitely! It's kinda funny how a place like this can surprise you, right? I mean, on the surface, it's just a bar, but it's got this friendly, community vibe that I really appreciate. Reminds me a bit of the camaraderie we have in the family business and the local football club. Plus, they've started using more local suppliers recently, trying to keep things sustainable, which I think is pretty cool. It's not just about grabbing a drink but supporting the community too. Sounds like that's right up your alley as well, with your interest in sustainability and all.\"\n",
      "Eli:  \"It's really refreshing to hear that, Brian. I think it's essential for businesses, especially bars and restaurants, to recognize their role in the community and the impact they can have on local economies and the environment. It's encouraging to see a place like this making an effort to source locally and foster a sense of community. It definitely makes me more interested in supporting them. Have you noticed any specific changes or improvements since they started focusing on local suppliers and sustainability?\"\n",
      "Brian :  \"Oh, absolutely, Eli. It's been fantastic seeing the transformation. The quality of food and drinks has skyrocketed since they started sourcing locally. Plus, there's a genuine pride in the air, knowing we're supporting our neighbors. They've also started hosting more community events here, which has been great for bringing people together and boosting the local scene. It’s like, every time you come, you’re contributing to something bigger than just a night out. Makes the whole experience feel more rewarding, you know?\"\n",
      "Eli:  \"That's exactly what draws me to places like this, Brian. The idea that our choices, even as simple as where we decide to spend an evening, can contribute to a larger, positive change within the community is truly inspiring. It's this kind of sustainable thinking and local support that I believe can revolutionize how we view our economic and environmental responsibilities. Plus, knowing the story behind the food and the people who grow it adds an invaluable layer to the dining experience. It's heartening to hear that more community events are being planned; it's a great way to deepen those local connections. Do you have any favorite events or changes that have stood out to you since the bar started integrating these practices?\"\n",
      "Brian :  \"Oh, absolutely, Eli. It's amazing to see how small choices like this ripple through the community. For me, the local farmers' market events they've started hosting right here in the parking lot have been a game changer. It's like a mini festival every time – live music, great food, and a chance to meet the folks who grow your dinner. And it ties back to what we're all about at the gardening company, too – supporting local, sustainable efforts. It's that sense of community that really makes you feel like you're part of something bigger, you know? Plus, it's a great spot to relax and catch up with folks I don't see too often. How about you? Any particular event or change that's caught your eye?\"\n",
      "Eli:  \"Brian, hearing about the farmers' market events really warms my heart. It's exactly the kind of initiative that resonates with my ethos. There’s something truly special about connecting directly with the people who grow our food. It fosters a deep appreciation for the hard work that goes into sustainable farming. For me, one of the standout changes has been the introduction of composting stations at these events. It's a small step, but it sends a powerful message about reducing waste and giving back to the earth. It aligns perfectly with the cycle of sustainability we promote in urban agriculture. Plus, it’s been a fantastic educational tool for the community, especially for kids, showing them the importance of composting right from the start. Have you noticed how these little changes are starting to shift people's perceptions about sustainability?\"\n",
      "Brian :  \"Absolutely, Eli! I've seen firsthand the impact of those composting stations. It's like you said, a small step, but the ripple effects are huge. People start with composting, and next thing, they're asking about organic gardening, looking into more sustainable living options. It's all about making sustainability accessible and understandable to everyone. And at our family business, we're trying to do our part too. We've been focusing on using and promoting eco-friendly gardening practices. It’s rewarding to see customers get excited about making their own gardens more sustainable. It's these kinds of community initiatives that really bring us together and show that everyone has a role to play in protecting our planet. Plus, getting the kids involved early on is key. They're the future, and seeing them learn about sustainability, well, it gives me hope. Have you been involved in any of the education or outreach at these events?\"\n",
      "Eli:  \"Absolutely, Brian. Education and outreach are actually some of the core aspects of my work. Engaging with the community, especially the younger generation, is incredibly fulfilling. It's about planting seeds of awareness and stewardship for the environment early on. I've had the chance to lead a few workshops at local schools and community centers, focusing on simple sustainable practices that kids and their families can adopt at home. It's amazing to see their curiosity and enthusiasm. And, you're right, it's about making these concepts accessible. By breaking down sustainability into manageable actions, we empower people to contribute to a healthier planet. It's these small changes, multiplied across communities, that lead to significant environmental benefits. I'm glad to hear your family business is also championing eco-friendly practices. It's partnerships and collaborations like these that amplify our impact. Have you considered any joint community projects or workshops that could combine our efforts?\"\n",
      "Brian :  \"You know what, Eli? That's a fantastic idea. I've always believed that our business can do more than just sell gardening supplies and services. Engaging directly with the community, especially in educating the younger folks, aligns perfectly with our ethos. I can already picture a series of workshops where we could teach kids about composting, recycling rainwater, and maybe even a little bit about planting their own little gardens. It's hands-on, it's fun, and it drives home the message of sustainability. Plus, having someone with your expertise and passion onboard would undoubtedly enrich the experience. Let's sit down sometime next week and hash out some of these ideas, see where our efforts could complement each other best. How does that sound to you?\"\n",
      "Eli:  \"Brian, that sounds like a wonderful opportunity. I'm genuinely excited about the potential we have to make a real difference in the community together. Educating the younger generation on sustainable practices not only empowers them but also ensures a lasting impact on our environment. Your idea of hands-on workshops is exactly the kind of engaging and meaningful activity that can spark interest and foster a deeper understanding of green living. I'd be thrilled to collaborate and bring my knowledge to the table. Let's definitely sit down next week to plan this out. I have a few ideas already brewing that I think could add great value to what you're envisioning. Thank you for considering me for this; it's exactly the kind of initiative I've been hoping to be a part of.\"\n",
      "Brian :  \"Eli, hearing you're just as pumped as I am about this really lights a fire under me! It's refreshing to meet someone who's not just talk but is eager to dive in and make things happen. Your experience with workshops is going to be invaluable, and I can't wait to see what ideas you're brewing. Let's make sure we carve out some time next week to sit down and get the ball rolling. I'm all in for creating something that's not only educational but also fun and engaging for the kids and their families. This is the kind of partnership that can genuinely steer our community towards a brighter, greener future. Thanks for being on board, man. It means a lot.\"\n",
      "Eli:  \"Brian, I'm equally thrilled about this collaboration. It's not every day you find someone whose enthusiasm for sustainability and education matches your own. I've got a few ideas percolating that I believe could really resonate with the community and amplify our message on sustainable living. Next week sounds perfect for diving deeper into planning. Your vision for an engaging, informative program aligns perfectly with what I've been hoping to achieve. Let's aim to make our sessions not just informative but also inspiring, empowering attendees to make tangible changes in their daily lives. Thank you for recognizing the value in this partnership—I'm convinced we're on the cusp of something truly impactful.\"\n",
      "Brian :  \"Eli, hearing you talk about your ideas and seeing your enthusiasm, it's invigorating. I'm all in for creating something that not only educates but also motivates our community to embrace more sustainable practices. It's essential that we make these sessions as interactive and relatable as possible. Maybe we can incorporate some hands-on activities or even a small project that participants can take home. It's about making sustainability personal and actionable, right? I can't wait to hash out the details with you next week. And hey, thanks for being so passionate about this. It's refreshing to team up with someone who shares the same drive for making a positive impact. Let's make sure our planning session is packed with creativity and coffee!\" [GOODBYE] Brian said \"Alright, Eli, it's been a great chat. I've got to head out, but let's keep this momentum going. I'll shoot you a message so we can set a date for next week. Looking forward to it!\"\n",
      "System: [GOODBYE] Eli: \"Absolutely, Brian, I'm really looking forward to it as well. Your enthusiasm adds a whole new level of excitement to the project. Incorporating hands-on activities is a fantastic idea; it'll definitely bring our vision of making sustainability personal and actionable to life. Let's make sure to brainstorm some engaging projects that can leave a lasting impression. And yes, let's fuel our planning session with plenty of creativity and coffee! I'll be ready with some ideas and can't wait to see what we come up with together. Thanks for a great conversation today, it's always energizing to share and develop ideas with someone as passionate about this as you are. Safe travels home, and I'll be on the lookout for your message. Have a great evening!\"\n",
      "Give a list of up to 7 short and precise statements in the following form\n",
      "# statement 1\n",
      "# statement 2\n",
      "...\u001B[0m\n",
      "\n",
      "\u001B[1m> Finished chain.\u001B[0m\n",
      "In _reflect_on_situation: Appraising situation summary\n",
      "In get_summary: Using old summary\n",
      "\n",
      "\n",
      "\u001B[1m> Entering new LLMChain chain...\u001B[0m\n",
      "Prompt after formatting:\n",
      "\u001B[32;1m\u001B[1;3mName: Eli (age: 34)\n",
      "Character traits: introspective, resourceful, empathetic\n",
      "Current Goal: N/A\n",
      "Communication Styleobservant and attentive, speaks with depth and thoughtfulness\n",
      "Eli is a family-oriented individual with a strong connection to his rural roots, which have influenced his career and personal values. He is dedicated to promoting sustainable agriculture and green living, especially in urban environments. Eli actively participates in community gardening and advocates for food security, utilizing his innovative approach to sustainable living that is supported and celebrated by his family. He also enjoys socializing through intimate gatherings, often highlighting his commitment to sustainability by featuring produce from his own projects.\n",
      "It is May 31, 2024, 04:41 PM.\n",
      "Eli's status: Urban Farmer\n",
      "Relevant context from Eli's memory:\n",
      "- [May 31, 2024, 04:35 PM] Eli finds purpose in educating others about sustainable agriculture and creating green spaces in urban environments.\n",
      "- [May 31, 2024, 04:35 PM] Eli is in a committed relationship with his partner, who supports and shares his passion for sustainable living.\n",
      "- [May 31, 2024, 04:35 PM] Eli is actively involved in community gardening programs and advocates for food security and sustainable urban living.\n",
      "- [May 31, 2024, 04:35 PM] Eli's family is proud of his innovative approach to sustainable living and often helps him with his projects.\n",
      "- [May 31, 2024, 04:35 PM] Eli holds a degree in Environmental Science and spent several years working in corporate sustainability before transitioning to urban farming.\n",
      "The statements which Eli appraises: # Brian and Eli met at a bar, initiating a conversation about their first time there and discussing their mutual interest in sustainability.\n",
      "# Eli expresses an interest in finding places that value sustainability and community, even in an urban setting.\n",
      "# Brian shares that the bar sources locally and hosts community events, aligning with his and Eli's values on sustainability.\n",
      "# They discuss how small changes, like composting stations and sourcing locally, can significantly impact community awareness and sustainability practices.\n",
      "# Brian and Eli explore the idea of collaborating on community projects or workshops focused on educating the younger generation about sustainable living.\n",
      "# They plan to meet the following week to develop ideas for hands-on, educational workshops that combine their expertise and interests.\n",
      "# The conversation concludes with both expressing excitement about their potential collaboration and the impact it could have on their community's approach to sustainability.\n",
      "Given the context from memory and the characters summary, what is Eli's emotional appraisal of the statements\n",
      "The appraisal can for example be a degree of agreement/disagreement or any kind of emotional response\n",
      "Answer precisely with one sentence per statement\n",
      "Answer in the following form:\n",
      "# [the first statement]: [appraisal]\n",
      "# [the second statement]: [appraisal]\n",
      " ...\u001B[0m\n",
      "\n",
      "\u001B[1m> Finished chain.\u001B[0m\n",
      "New memories: \n",
      " ['Brian and Eli met at a bar, initiating a conversation about their first time there and discussing their mutual interest in sustainability: Eli feels a sense of connection and optimism, appreciating the chance encounter that aligns with his values.\\n', 'Eli expresses an interest in finding places that value sustainability and community, even in an urban setting: Eli is enthusiastic and hopeful, seeing potential for integrating his passions into various aspects of his urban life.\\n', \"Brian shares that the bar sources locally and hosts community events, aligning with his and Eli's values on sustainability: Eli is pleasantly surprised and encouraged by the alignment of his values with the practices of the bar.\\n\", 'They discuss how small changes, like composting stations and sourcing locally, can significantly impact community awareness and sustainability practices: Eli is inspired and validated, recognizing the power of incremental changes in fostering sustainable communities.\\n', 'Brian and Eli explore the idea of collaborating on community projects or workshops focused on educating the younger generation about sustainable living: Eli is excited and motivated by the prospect of collaboration that amplifies their impact on sustainability education.\\n', 'They plan to meet the following week to develop ideas for hands-on, educational workshops that combine their expertise and interests: Eli is eager and committed, looking forward to the opportunity to turn their shared vision into actionable projects.\\n', \"The conversation concludes with both expressing excitement about their potential collaboration and the impact it could have on their community's approach to sustainability: Eli is hopeful and gratified, anticipating the positive influence their combined efforts could have on promoting sustainability.\"]\n",
      "Adding new memories to LTM\n"
     ]
    }
   ],
   "execution_count": 19
  },
  {
   "metadata": {},
   "cell_type": "markdown",
   "source": [
    "First a summary of the conversation into up to 7 key statements is created.   \n",
    "These key statements are then each appraised by the agent, based on the character summary and relevant memories.  \n",
    "Relevant memories are queried using all statements together.   \n",
    "I haven't gotten the change to determine if the retrieval makes sense for such a large query."
   ],
   "id": "a67e4f310945d728"
  },
  {
   "metadata": {
    "ExecuteTime": {
     "end_time": "2024-05-31T14:42:24.476177Z",
     "start_time": "2024-05-31T14:42:24.469314Z"
    }
   },
   "cell_type": "code",
   "source": "",
   "id": "b25fbd452ef533b6",
   "outputs": [],
   "execution_count": 19
  }
 ],
 "metadata": {
  "kernelspec": {
   "display_name": "Python 3 (ipykernel)",
   "language": "python",
   "name": "python3"
  },
  "language_info": {
   "codemirror_mode": {
    "name": "ipython",
    "version": 3
   },
   "file_extension": ".py",
   "mimetype": "text/x-python",
   "name": "python",
   "nbconvert_exporter": "python",
   "pygments_lexer": "ipython3",
   "version": "3.11.5"
  }
 },
 "nbformat": 4,
 "nbformat_minor": 5
}
